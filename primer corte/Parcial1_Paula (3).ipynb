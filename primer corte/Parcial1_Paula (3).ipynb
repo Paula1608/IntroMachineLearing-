{
  "cells": [
    {
      "cell_type": "markdown",
      "metadata": {
        "id": "dVJ7lHDq2c5r"
      },
      "source": [
        "# Parcial de Regresión Lineal\n",
        "\n",
        "\n",
        "## Preguntas de Negocio\n",
        "1. **Predicción:** Si llega un carro con 92670.5 km, ¿a cuánto debería venderlo según el modelo?\n",
        "2. **Inversión:** Como inversionista, ¿cuáles son los vehículos (según su kilometraje) que podrían generar un margen de ganancia atractivo?\n"
      ]
    },
    {
      "cell_type": "code",
      "execution_count": 4,
      "metadata": {
        "id": "k07tDAto2c5t"
      },
      "outputs": [],
      "source": [
        "# Importar librerías necesarias\n",
        "import pandas as pd\n",
        "import numpy as np\n",
        "\n",
        "from sklearn.model_selection import train_test_split\n",
        "from sklearn.linear_model import LinearRegression\n",
        "from sklearn.metrics import mean_squared_error, mean_absolute_error, r2_score\n",
        "\n",
        "%matplotlib inline"
      ]
    },
    {
      "cell_type": "markdown",
      "metadata": {
        "id": "DSGz8xe32c5u"
      },
      "source": [
        "## 1. Cargar y Preprocesar Datos\n",
        "\n",
        "Se descarga el dataset de vehículos, se descomprime y se carga en un DataFrame. Además, se eliminan los valores faltantes."
      ]
    },
    {
      "cell_type": "code",
      "source": [
        "# Descargar y descomprimir el dataset\n",
        "!wget https://github.com/javierherrera1996/lecture_analytics/raw/main/cars_dataset.zip\n",
        "!unzip -o cars_dataset.zip\n"
      ],
      "metadata": {
        "colab": {
          "base_uri": "https://localhost:8080/"
        },
        "id": "2vtX7uwT20yl",
        "outputId": "2c6a7d87-1305-4a24-e2b5-b18da5feac8c"
      },
      "execution_count": 5,
      "outputs": [
        {
          "output_type": "stream",
          "name": "stdout",
          "text": [
            "--2025-03-12 21:08:23--  https://github.com/javierherrera1996/lecture_analytics/raw/main/cars_dataset.zip\n",
            "Resolving github.com (github.com)... 140.82.114.3\n",
            "Connecting to github.com (github.com)|140.82.114.3|:443... connected.\n",
            "HTTP request sent, awaiting response... 302 Found\n",
            "Location: https://raw.githubusercontent.com/javierherrera1996/lecture_analytics/main/cars_dataset.zip [following]\n",
            "--2025-03-12 21:08:23--  https://raw.githubusercontent.com/javierherrera1996/lecture_analytics/main/cars_dataset.zip\n",
            "Resolving raw.githubusercontent.com (raw.githubusercontent.com)... 185.199.109.133, 185.199.111.133, 185.199.108.133, ...\n",
            "Connecting to raw.githubusercontent.com (raw.githubusercontent.com)|185.199.109.133|:443... connected.\n",
            "HTTP request sent, awaiting response... 200 OK\n",
            "Length: 19753181 (19M) [application/zip]\n",
            "Saving to: ‘cars_dataset.zip’\n",
            "\n",
            "cars_dataset.zip    100%[===================>]  18.84M  --.-KB/s    in 0.1s    \n",
            "\n",
            "2025-03-12 21:08:24 (142 MB/s) - ‘cars_dataset.zip’ saved [19753181/19753181]\n",
            "\n",
            "Archive:  cars_dataset.zip\n",
            "  inflating: car_prices.csv          \n"
          ]
        }
      ]
    },
    {
      "cell_type": "code",
      "source": [
        "df = pd.read_csv('car_prices.csv')\n",
        "df.dropna(inplace=True)"
      ],
      "metadata": {
        "id": "4DTNRQnSMA3w"
      },
      "execution_count": 13,
      "outputs": []
    },
    {
      "cell_type": "markdown",
      "metadata": {
        "id": "Cjs4U9HU2c5w"
      },
      "source": [
        "## 2. Análisis Exploratorio de Datos (EDA)\n",
        "\n",
        "Se generan estadísticas descriptivas para analizar las variables numéricas y entender la distribución de los datos."
      ]
    },
    {
      "cell_type": "code",
      "execution_count": 14,
      "metadata": {
        "id": "r8DvyOTC2c5w",
        "colab": {
          "base_uri": "https://localhost:8080/",
          "height": 300
        },
        "outputId": "b7a65de3-7e33-482f-f3ba-a95ceda97cbe"
      },
      "outputs": [
        {
          "output_type": "execute_result",
          "data": {
            "text/plain": [
              "                year      condition       odometer            mmr  \\\n",
              "count  472325.000000  472325.000000  472325.000000  472325.000000   \n",
              "mean     2010.210980      30.774177   66701.732040   13837.058964   \n",
              "std         3.822151      13.286866   51939.586894    9532.229273   \n",
              "min      1990.000000       1.000000       1.000000      25.000000   \n",
              "25%      2008.000000      24.000000   28137.000000    7425.000000   \n",
              "50%      2012.000000      35.000000   51085.000000   12300.000000   \n",
              "75%      2013.000000      41.000000   96590.000000   18300.000000   \n",
              "max      2015.000000      49.000000  999999.000000  182000.000000   \n",
              "\n",
              "        sellingprice  \n",
              "count  472325.000000  \n",
              "mean    13690.512058  \n",
              "std      9613.033738  \n",
              "min         1.000000  \n",
              "25%      7200.000000  \n",
              "50%     12200.000000  \n",
              "75%     18200.000000  \n",
              "max    230000.000000  "
            ],
            "text/html": [
              "\n",
              "  <div id=\"df-dff16fe3-554e-49aa-860e-930902efcaaf\" class=\"colab-df-container\">\n",
              "    <div>\n",
              "<style scoped>\n",
              "    .dataframe tbody tr th:only-of-type {\n",
              "        vertical-align: middle;\n",
              "    }\n",
              "\n",
              "    .dataframe tbody tr th {\n",
              "        vertical-align: top;\n",
              "    }\n",
              "\n",
              "    .dataframe thead th {\n",
              "        text-align: right;\n",
              "    }\n",
              "</style>\n",
              "<table border=\"1\" class=\"dataframe\">\n",
              "  <thead>\n",
              "    <tr style=\"text-align: right;\">\n",
              "      <th></th>\n",
              "      <th>year</th>\n",
              "      <th>condition</th>\n",
              "      <th>odometer</th>\n",
              "      <th>mmr</th>\n",
              "      <th>sellingprice</th>\n",
              "    </tr>\n",
              "  </thead>\n",
              "  <tbody>\n",
              "    <tr>\n",
              "      <th>count</th>\n",
              "      <td>472325.000000</td>\n",
              "      <td>472325.000000</td>\n",
              "      <td>472325.000000</td>\n",
              "      <td>472325.000000</td>\n",
              "      <td>472325.000000</td>\n",
              "    </tr>\n",
              "    <tr>\n",
              "      <th>mean</th>\n",
              "      <td>2010.210980</td>\n",
              "      <td>30.774177</td>\n",
              "      <td>66701.732040</td>\n",
              "      <td>13837.058964</td>\n",
              "      <td>13690.512058</td>\n",
              "    </tr>\n",
              "    <tr>\n",
              "      <th>std</th>\n",
              "      <td>3.822151</td>\n",
              "      <td>13.286866</td>\n",
              "      <td>51939.586894</td>\n",
              "      <td>9532.229273</td>\n",
              "      <td>9613.033738</td>\n",
              "    </tr>\n",
              "    <tr>\n",
              "      <th>min</th>\n",
              "      <td>1990.000000</td>\n",
              "      <td>1.000000</td>\n",
              "      <td>1.000000</td>\n",
              "      <td>25.000000</td>\n",
              "      <td>1.000000</td>\n",
              "    </tr>\n",
              "    <tr>\n",
              "      <th>25%</th>\n",
              "      <td>2008.000000</td>\n",
              "      <td>24.000000</td>\n",
              "      <td>28137.000000</td>\n",
              "      <td>7425.000000</td>\n",
              "      <td>7200.000000</td>\n",
              "    </tr>\n",
              "    <tr>\n",
              "      <th>50%</th>\n",
              "      <td>2012.000000</td>\n",
              "      <td>35.000000</td>\n",
              "      <td>51085.000000</td>\n",
              "      <td>12300.000000</td>\n",
              "      <td>12200.000000</td>\n",
              "    </tr>\n",
              "    <tr>\n",
              "      <th>75%</th>\n",
              "      <td>2013.000000</td>\n",
              "      <td>41.000000</td>\n",
              "      <td>96590.000000</td>\n",
              "      <td>18300.000000</td>\n",
              "      <td>18200.000000</td>\n",
              "    </tr>\n",
              "    <tr>\n",
              "      <th>max</th>\n",
              "      <td>2015.000000</td>\n",
              "      <td>49.000000</td>\n",
              "      <td>999999.000000</td>\n",
              "      <td>182000.000000</td>\n",
              "      <td>230000.000000</td>\n",
              "    </tr>\n",
              "  </tbody>\n",
              "</table>\n",
              "</div>\n",
              "    <div class=\"colab-df-buttons\">\n",
              "\n",
              "  <div class=\"colab-df-container\">\n",
              "    <button class=\"colab-df-convert\" onclick=\"convertToInteractive('df-dff16fe3-554e-49aa-860e-930902efcaaf')\"\n",
              "            title=\"Convert this dataframe to an interactive table.\"\n",
              "            style=\"display:none;\">\n",
              "\n",
              "  <svg xmlns=\"http://www.w3.org/2000/svg\" height=\"24px\" viewBox=\"0 -960 960 960\">\n",
              "    <path d=\"M120-120v-720h720v720H120Zm60-500h600v-160H180v160Zm220 220h160v-160H400v160Zm0 220h160v-160H400v160ZM180-400h160v-160H180v160Zm440 0h160v-160H620v160ZM180-180h160v-160H180v160Zm440 0h160v-160H620v160Z\"/>\n",
              "  </svg>\n",
              "    </button>\n",
              "\n",
              "  <style>\n",
              "    .colab-df-container {\n",
              "      display:flex;\n",
              "      gap: 12px;\n",
              "    }\n",
              "\n",
              "    .colab-df-convert {\n",
              "      background-color: #E8F0FE;\n",
              "      border: none;\n",
              "      border-radius: 50%;\n",
              "      cursor: pointer;\n",
              "      display: none;\n",
              "      fill: #1967D2;\n",
              "      height: 32px;\n",
              "      padding: 0 0 0 0;\n",
              "      width: 32px;\n",
              "    }\n",
              "\n",
              "    .colab-df-convert:hover {\n",
              "      background-color: #E2EBFA;\n",
              "      box-shadow: 0px 1px 2px rgba(60, 64, 67, 0.3), 0px 1px 3px 1px rgba(60, 64, 67, 0.15);\n",
              "      fill: #174EA6;\n",
              "    }\n",
              "\n",
              "    .colab-df-buttons div {\n",
              "      margin-bottom: 4px;\n",
              "    }\n",
              "\n",
              "    [theme=dark] .colab-df-convert {\n",
              "      background-color: #3B4455;\n",
              "      fill: #D2E3FC;\n",
              "    }\n",
              "\n",
              "    [theme=dark] .colab-df-convert:hover {\n",
              "      background-color: #434B5C;\n",
              "      box-shadow: 0px 1px 3px 1px rgba(0, 0, 0, 0.15);\n",
              "      filter: drop-shadow(0px 1px 2px rgba(0, 0, 0, 0.3));\n",
              "      fill: #FFFFFF;\n",
              "    }\n",
              "  </style>\n",
              "\n",
              "    <script>\n",
              "      const buttonEl =\n",
              "        document.querySelector('#df-dff16fe3-554e-49aa-860e-930902efcaaf button.colab-df-convert');\n",
              "      buttonEl.style.display =\n",
              "        google.colab.kernel.accessAllowed ? 'block' : 'none';\n",
              "\n",
              "      async function convertToInteractive(key) {\n",
              "        const element = document.querySelector('#df-dff16fe3-554e-49aa-860e-930902efcaaf');\n",
              "        const dataTable =\n",
              "          await google.colab.kernel.invokeFunction('convertToInteractive',\n",
              "                                                    [key], {});\n",
              "        if (!dataTable) return;\n",
              "\n",
              "        const docLinkHtml = 'Like what you see? Visit the ' +\n",
              "          '<a target=\"_blank\" href=https://colab.research.google.com/notebooks/data_table.ipynb>data table notebook</a>'\n",
              "          + ' to learn more about interactive tables.';\n",
              "        element.innerHTML = '';\n",
              "        dataTable['output_type'] = 'display_data';\n",
              "        await google.colab.output.renderOutput(dataTable, element);\n",
              "        const docLink = document.createElement('div');\n",
              "        docLink.innerHTML = docLinkHtml;\n",
              "        element.appendChild(docLink);\n",
              "      }\n",
              "    </script>\n",
              "  </div>\n",
              "\n",
              "\n",
              "<div id=\"df-1cc9428f-c248-4c21-ac52-a98c12df2aa4\">\n",
              "  <button class=\"colab-df-quickchart\" onclick=\"quickchart('df-1cc9428f-c248-4c21-ac52-a98c12df2aa4')\"\n",
              "            title=\"Suggest charts\"\n",
              "            style=\"display:none;\">\n",
              "\n",
              "<svg xmlns=\"http://www.w3.org/2000/svg\" height=\"24px\"viewBox=\"0 0 24 24\"\n",
              "     width=\"24px\">\n",
              "    <g>\n",
              "        <path d=\"M19 3H5c-1.1 0-2 .9-2 2v14c0 1.1.9 2 2 2h14c1.1 0 2-.9 2-2V5c0-1.1-.9-2-2-2zM9 17H7v-7h2v7zm4 0h-2V7h2v10zm4 0h-2v-4h2v4z\"/>\n",
              "    </g>\n",
              "</svg>\n",
              "  </button>\n",
              "\n",
              "<style>\n",
              "  .colab-df-quickchart {\n",
              "      --bg-color: #E8F0FE;\n",
              "      --fill-color: #1967D2;\n",
              "      --hover-bg-color: #E2EBFA;\n",
              "      --hover-fill-color: #174EA6;\n",
              "      --disabled-fill-color: #AAA;\n",
              "      --disabled-bg-color: #DDD;\n",
              "  }\n",
              "\n",
              "  [theme=dark] .colab-df-quickchart {\n",
              "      --bg-color: #3B4455;\n",
              "      --fill-color: #D2E3FC;\n",
              "      --hover-bg-color: #434B5C;\n",
              "      --hover-fill-color: #FFFFFF;\n",
              "      --disabled-bg-color: #3B4455;\n",
              "      --disabled-fill-color: #666;\n",
              "  }\n",
              "\n",
              "  .colab-df-quickchart {\n",
              "    background-color: var(--bg-color);\n",
              "    border: none;\n",
              "    border-radius: 50%;\n",
              "    cursor: pointer;\n",
              "    display: none;\n",
              "    fill: var(--fill-color);\n",
              "    height: 32px;\n",
              "    padding: 0;\n",
              "    width: 32px;\n",
              "  }\n",
              "\n",
              "  .colab-df-quickchart:hover {\n",
              "    background-color: var(--hover-bg-color);\n",
              "    box-shadow: 0 1px 2px rgba(60, 64, 67, 0.3), 0 1px 3px 1px rgba(60, 64, 67, 0.15);\n",
              "    fill: var(--button-hover-fill-color);\n",
              "  }\n",
              "\n",
              "  .colab-df-quickchart-complete:disabled,\n",
              "  .colab-df-quickchart-complete:disabled:hover {\n",
              "    background-color: var(--disabled-bg-color);\n",
              "    fill: var(--disabled-fill-color);\n",
              "    box-shadow: none;\n",
              "  }\n",
              "\n",
              "  .colab-df-spinner {\n",
              "    border: 2px solid var(--fill-color);\n",
              "    border-color: transparent;\n",
              "    border-bottom-color: var(--fill-color);\n",
              "    animation:\n",
              "      spin 1s steps(1) infinite;\n",
              "  }\n",
              "\n",
              "  @keyframes spin {\n",
              "    0% {\n",
              "      border-color: transparent;\n",
              "      border-bottom-color: var(--fill-color);\n",
              "      border-left-color: var(--fill-color);\n",
              "    }\n",
              "    20% {\n",
              "      border-color: transparent;\n",
              "      border-left-color: var(--fill-color);\n",
              "      border-top-color: var(--fill-color);\n",
              "    }\n",
              "    30% {\n",
              "      border-color: transparent;\n",
              "      border-left-color: var(--fill-color);\n",
              "      border-top-color: var(--fill-color);\n",
              "      border-right-color: var(--fill-color);\n",
              "    }\n",
              "    40% {\n",
              "      border-color: transparent;\n",
              "      border-right-color: var(--fill-color);\n",
              "      border-top-color: var(--fill-color);\n",
              "    }\n",
              "    60% {\n",
              "      border-color: transparent;\n",
              "      border-right-color: var(--fill-color);\n",
              "    }\n",
              "    80% {\n",
              "      border-color: transparent;\n",
              "      border-right-color: var(--fill-color);\n",
              "      border-bottom-color: var(--fill-color);\n",
              "    }\n",
              "    90% {\n",
              "      border-color: transparent;\n",
              "      border-bottom-color: var(--fill-color);\n",
              "    }\n",
              "  }\n",
              "</style>\n",
              "\n",
              "  <script>\n",
              "    async function quickchart(key) {\n",
              "      const quickchartButtonEl =\n",
              "        document.querySelector('#' + key + ' button');\n",
              "      quickchartButtonEl.disabled = true;  // To prevent multiple clicks.\n",
              "      quickchartButtonEl.classList.add('colab-df-spinner');\n",
              "      try {\n",
              "        const charts = await google.colab.kernel.invokeFunction(\n",
              "            'suggestCharts', [key], {});\n",
              "      } catch (error) {\n",
              "        console.error('Error during call to suggestCharts:', error);\n",
              "      }\n",
              "      quickchartButtonEl.classList.remove('colab-df-spinner');\n",
              "      quickchartButtonEl.classList.add('colab-df-quickchart-complete');\n",
              "    }\n",
              "    (() => {\n",
              "      let quickchartButtonEl =\n",
              "        document.querySelector('#df-1cc9428f-c248-4c21-ac52-a98c12df2aa4 button');\n",
              "      quickchartButtonEl.style.display =\n",
              "        google.colab.kernel.accessAllowed ? 'block' : 'none';\n",
              "    })();\n",
              "  </script>\n",
              "</div>\n",
              "\n",
              "    </div>\n",
              "  </div>\n"
            ],
            "application/vnd.google.colaboratory.intrinsic+json": {
              "type": "dataframe",
              "summary": "{\n  \"name\": \"df\",\n  \"rows\": 8,\n  \"fields\": [\n    {\n      \"column\": \"year\",\n      \"properties\": {\n        \"dtype\": \"number\",\n        \"std\": 166384.86388565475,\n        \"min\": 3.8221509262168887,\n        \"max\": 472325.0,\n        \"num_unique_values\": 8,\n        \"samples\": [\n          2010.2109797279415,\n          2012.0,\n          472325.0\n        ],\n        \"semantic_type\": \"\",\n        \"description\": \"\"\n      }\n    },\n    {\n      \"column\": \"condition\",\n      \"properties\": {\n        \"dtype\": \"number\",\n        \"std\": 166982.30434540205,\n        \"min\": 1.0,\n        \"max\": 472325.0,\n        \"num_unique_values\": 8,\n        \"samples\": [\n          30.774176679193353,\n          35.0,\n          472325.0\n        ],\n        \"semantic_type\": \"\",\n        \"description\": \"\"\n      }\n    },\n    {\n      \"column\": \"odometer\",\n      \"properties\": {\n        \"dtype\": \"number\",\n        \"std\": 349035.1066937268,\n        \"min\": 1.0,\n        \"max\": 999999.0,\n        \"num_unique_values\": 8,\n        \"samples\": [\n          66701.73204043826,\n          51085.0,\n          472325.0\n        ],\n        \"semantic_type\": \"\",\n        \"description\": \"\"\n      }\n    },\n    {\n      \"column\": \"mmr\",\n      \"properties\": {\n        \"dtype\": \"number\",\n        \"std\": 166047.4582343995,\n        \"min\": 25.0,\n        \"max\": 472325.0,\n        \"num_unique_values\": 8,\n        \"samples\": [\n          13837.058963637326,\n          12300.0,\n          472325.0\n        ],\n        \"semantic_type\": \"\",\n        \"description\": \"\"\n      }\n    },\n    {\n      \"column\": \"sellingprice\",\n      \"properties\": {\n        \"dtype\": \"number\",\n        \"std\": 170707.66520451778,\n        \"min\": 1.0,\n        \"max\": 472325.0,\n        \"num_unique_values\": 8,\n        \"samples\": [\n          13690.51205843434,\n          12200.0,\n          472325.0\n        ],\n        \"semantic_type\": \"\",\n        \"description\": \"\"\n      }\n    }\n  ]\n}"
            }
          },
          "metadata": {},
          "execution_count": 14
        }
      ],
      "source": [
        "df.describe()"
      ]
    },
    {
      "cell_type": "markdown",
      "metadata": {
        "id": "20HEM8yr2c5w"
      },
      "source": [
        "## 3. Modelo de Regresión Lineal\n",
        "\n",
        "Se utiliza la variable 'odometer' para predecir 'sellingprice'. Se dividen los datos en conjunto de entrenamiento y prueba (80%-20%)."
      ]
    },
    {
      "cell_type": "code",
      "execution_count": 15,
      "metadata": {
        "id": "XC3SCRIk2c5x",
        "colab": {
          "base_uri": "https://localhost:8080/"
        },
        "outputId": "a092958f-ee30-4c99-a1dd-26d0e98f0e94"
      },
      "outputs": [
        {
          "output_type": "stream",
          "name": "stdout",
          "text": [
            "Coeficiente: [-0.10704423]\n",
            "Intersección: 20836.521358799273\n"
          ]
        }
      ],
      "source": [
        "\n",
        "X = df[['odometer']]\n",
        "y = df['sellingprice']\n",
        "\n",
        "\n",
        "X_train, X_test, y_train, y_test = train_test_split(X, y, test_size=0.2, random_state=42)\n",
        "\n",
        "\n",
        "modelo = LinearRegression()\n",
        "modelo.fit(X_train, y_train)\n",
        "\n",
        "print(\"Coeficiente:\", modelo.coef_)\n",
        "print(\"Intersección:\", modelo.intercept_)\n"
      ]
    },
    {
      "cell_type": "markdown",
      "metadata": {
        "id": "zN0tFURm2c5x"
      },
      "source": [
        "## 4. Evaluación del Modelo\n",
        "\n",
        "Se evalúa el desempeño del modelo en el conjunto de prueba utilizando métricas como MSE, MAE y R²."
      ]
    },
    {
      "cell_type": "code",
      "execution_count": 16,
      "metadata": {
        "id": "wL2xptp_2c5x",
        "colab": {
          "base_uri": "https://localhost:8080/"
        },
        "outputId": "d2d56959-bca4-4ced-dd5a-348a4bba54f9"
      },
      "outputs": [
        {
          "output_type": "stream",
          "name": "stdout",
          "text": [
            "MSE: 60380220.39908442\n",
            "MAE: 5399.032012605542\n",
            "R²: 0.3356777870212565\n"
          ]
        }
      ],
      "source": [
        "\n",
        "y_pred = modelo.predict(X_test)\n",
        "\n",
        "\n",
        "mse = mean_squared_error(y_test, y_pred)\n",
        "mae = mean_absolute_error(y_test, y_pred)\n",
        "r2 = r2_score(y_test, y_pred)\n",
        "\n",
        "print(\"MSE:\", mse)\n",
        "print(\"MAE:\", mae)\n",
        "print(\"R²:\", r2)\n"
      ]
    },
    {
      "cell_type": "markdown",
      "metadata": {
        "id": "27nhHQdY2c5x"
      },
      "source": [
        "## 5. Predicción y Respuestas a Preguntas de Negocio\n",
        "\n",
        "### Pregunta 1: Precio Estimado para un Carro con 92670.5 km\n",
        "\n",
        "Utilizamos el modelo para predecir el precio de venta de un carro con 92670.5 km."
      ]
    },
    {
      "cell_type": "code",
      "execution_count": 17,
      "metadata": {
        "id": "dMhv6HZN2c5x",
        "colab": {
          "base_uri": "https://localhost:8080/"
        },
        "outputId": "912a9543-f0ae-4860-d771-c82e332e68c6"
      },
      "outputs": [
        {
          "output_type": "stream",
          "name": "stdout",
          "text": [
            "Precio estimado para un carro con 92670.5 km: 10916.679128133772\n"
          ]
        }
      ],
      "source": [
        "\n",
        "nuevo_odometro = pd.DataFrame({'odometer': [92670.5]})\n",
        "precio_estimado = modelo.predict(nuevo_odometro)\n",
        "print(\"Precio estimado para un carro con 92670.5 km:\", precio_estimado[0])\n"
      ]
    },
    {
      "cell_type": "markdown",
      "metadata": {
        "id": "Fr74B3XP2c5x"
      },
      "source": [
        "## 6. Análisis Crítico de Resultados (10 Puntos Cerrados)\n",
        "\n",
        "Responde a las siguientes preguntas de manera cerrada (Sí/No). Estas preguntas facilitan una calificación rápida:\n",
        "\n",
        "1. ¿El coeficiente negativo (-0.107) indica que a mayor kilometraje, menor precio de venta? (Sí/No)\n",
        "- Sí\n",
        "2. ¿Un R² de 0.336 sugiere que el modelo explica más del 50% de la variabilidad en el precio de venta? (Sí/No)\n",
        "- No\n",
        "3. ¿El valor elevado del MSE indica que existen errores importantes en las predicciones? (Sí/No)\n",
        "- Sí\n",
        "4. ¿El MAE obtenido es suficientemente bajo para garantizar predicciones precisas en todos los casos? (Sí/No)\n",
        "- No\n",
        "5. ¿La eliminación de filas con valores faltantes puede reducir la robustez del modelo? (Sí/No)\n",
        "- Sí\n",
        "6. ¿Incluir variables adicionales como año, condición y marca podría mejorar la capacidad predictiva del modelo? (Sí/No)\n",
        "- Sí\n",
        "7. ¿La relación negativa entre kilometraje y precio es consistente con el comportamiento esperado en el mercado de vehículos? (Sí/No)\n",
        "- Sí\n",
        "8. ¿Dividir los datos en 80% entrenamiento y 20% prueba es una práctica recomendada para evaluar el modelo? (Sí/No)\n",
        "- Sí\n"
      ]
    }
  ],
  "metadata": {
    "colab": {
      "provenance": []
    },
    "kernelspec": {
      "display_name": "Python 3",
      "language": "python",
      "name": "python3"
    },
    "language_info": {
      "name": "python"
    }
  },
  "nbformat": 4,
  "nbformat_minor": 0
}