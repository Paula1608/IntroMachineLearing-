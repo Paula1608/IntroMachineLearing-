{
  "cells": [
    {
      "cell_type": "markdown",
      "id": "cecf7a01",
      "metadata": {
        "id": "cecf7a01"
      },
      "source": [
        "# Análisis Completo de Regresión Lineal\n",
        "\n",
        "Este notebook muestra paso a paso cómo realizar un análisis de **Regresión Lineal** empleando un conjunto de datos que contiene:\n",
        "- **valuationdate**: fecha de valoración (opcional para el modelo)\n",
        "- **revenues**: ingresos\n",
        "- **ebit**: utilidad antes de intereses e impuestos\n",
        "- **depreciation**: depreciación\n",
        "- **capex**: gastos de capital\n",
        "- **ncwc**: cambio en capital de trabajo neto\n",
        "- **bv**: (posiblemente) valor en libros\n",
        "- **y**: variable objetivo que deseamos predecir (por ejemplo, un valor financiero o de valoración)\n",
        "\n",
        "Iremos desde la **carga** y **exploración** del dataset hasta la **interpretación** de coeficientes y la **evaluación** de métricas importantes."
      ]
    },
    {
      "cell_type": "code",
      "source": [
        "!wget https://github.com/javierherrera1996/IntroMachineLearning/raw/refs/heads/main/PrimerCorte/RegresionLineal/enterprise.csv"
      ],
      "metadata": {
        "colab": {
          "base_uri": "https://localhost:8080/"
        },
        "id": "LCuTCvghz5bk",
        "outputId": "91f49fb4-0e38-4ee6-d1ac-49ea2ff048a0"
      },
      "id": "LCuTCvghz5bk",
      "execution_count": 1,
      "outputs": [
        {
          "output_type": "stream",
          "name": "stdout",
          "text": [
            "--2025-03-05 21:46:36--  https://github.com/javierherrera1996/IntroMachineLearning/raw/refs/heads/main/PrimerCorte/RegresionLineal/enterprise.csv\n",
            "Resolving github.com (github.com)... 140.82.114.3\n",
            "Connecting to github.com (github.com)|140.82.114.3|:443... connected.\n",
            "HTTP request sent, awaiting response... 302 Found\n",
            "Location: https://raw.githubusercontent.com/javierherrera1996/IntroMachineLearning/refs/heads/main/PrimerCorte/RegresionLineal/enterprise.csv [following]\n",
            "--2025-03-05 21:46:36--  https://raw.githubusercontent.com/javierherrera1996/IntroMachineLearning/refs/heads/main/PrimerCorte/RegresionLineal/enterprise.csv\n",
            "Resolving raw.githubusercontent.com (raw.githubusercontent.com)... 185.199.111.133, 185.199.109.133, 185.199.110.133, ...\n",
            "Connecting to raw.githubusercontent.com (raw.githubusercontent.com)|185.199.111.133|:443... connected.\n",
            "HTTP request sent, awaiting response... 200 OK\n",
            "Length: 82415 (80K) [text/plain]\n",
            "Saving to: ‘enterprise.csv’\n",
            "\n",
            "enterprise.csv      100%[===================>]  80.48K  --.-KB/s    in 0.002s  \n",
            "\n",
            "2025-03-05 21:46:36 (32.8 MB/s) - ‘enterprise.csv’ saved [82415/82415]\n",
            "\n"
          ]
        }
      ]
    },
    {
      "cell_type": "markdown",
      "id": "7ceab41b",
      "metadata": {
        "id": "7ceab41b"
      },
      "source": [
        "## Paso 0: Importar librerías y configuración"
      ]
    },
    {
      "cell_type": "code",
      "execution_count": 9,
      "id": "99b373c1",
      "metadata": {
        "id": "99b373c1"
      },
      "outputs": [],
      "source": [
        "import numpy as np\n",
        "import pandas as pd\n",
        "import matplotlib.pyplot as plt\n",
        "import seaborn as sns\n",
        "\n",
        "from sklearn.linear_model import LinearRegression\n",
        "from sklearn.model_selection import train_test_split\n",
        "from sklearn.metrics import mean_squared_error, r2_score\n",
        "\n",
        "sns.set(style=\"whitegrid\")\n",
        "plt.rcParams[\"figure.figsize\"] = (8, 6)"
      ]
    },
    {
      "cell_type": "markdown",
      "id": "871d0c89",
      "metadata": {
        "id": "871d0c89"
      },
      "source": [
        "## Paso 1: Carga y Exploración de Datos (EDA)\n",
        "\n",
        "En este primer bloque, cargaremos nuestro dataset y realizaremos un Análisis Exploratorio básico."
      ]
    },
    {
      "cell_type": "code",
      "execution_count": 10,
      "id": "bc8b2753",
      "metadata": {
        "id": "bc8b2753"
      },
      "outputs": [],
      "source": [
        "df = pd.read_csv(\"enterprise.csv\")"
      ]
    },
    {
      "cell_type": "code",
      "source": [
        "df.info()"
      ],
      "metadata": {
        "id": "7KqxxwMsWOnY",
        "outputId": "5e6c0afb-452d-49a5-8da3-fb67f3dc02e3",
        "colab": {
          "base_uri": "https://localhost:8080/"
        }
      },
      "id": "7KqxxwMsWOnY",
      "execution_count": 18,
      "outputs": [
        {
          "output_type": "stream",
          "name": "stdout",
          "text": [
            "<class 'pandas.core.frame.DataFrame'>\n",
            "RangeIndex: 1061 entries, 0 to 1060\n",
            "Data columns (total 8 columns):\n",
            " #   Column         Non-Null Count  Dtype  \n",
            "---  ------         --------------  -----  \n",
            " 0   valuationdate  1061 non-null   object \n",
            " 1   revenues       1061 non-null   float64\n",
            " 2   ebit           1061 non-null   float64\n",
            " 3   depreciation   1061 non-null   float64\n",
            " 4   capex          1061 non-null   float64\n",
            " 5   ncwc           1061 non-null   float64\n",
            " 6   bv             1061 non-null   float64\n",
            " 7   y              1061 non-null   float64\n",
            "dtypes: float64(7), object(1)\n",
            "memory usage: 66.4+ KB\n"
          ]
        }
      ]
    },
    {
      "cell_type": "code",
      "execution_count": 19,
      "id": "ee5666d8",
      "metadata": {
        "id": "ee5666d8",
        "outputId": "9d87ebb6-6aaf-439a-ff1d-80c2205bbd7d",
        "colab": {
          "base_uri": "https://localhost:8080/",
          "height": 206
        }
      },
      "outputs": [
        {
          "output_type": "execute_result",
          "data": {
            "text/plain": [
              "  valuationdate    revenues          ebit  depreciation      capex  \\\n",
              "0    30/06/2011  86470.7000  10387.500000      6429.000   3512.000   \n",
              "1    31/12/2010  84754.2000  14031.180800      8658.600  17172.500   \n",
              "2    30/09/2016  15653.4800    221.347452       647.239    749.478   \n",
              "3    30/09/2018  62001.3297   7551.761957      1808.830   2702.850   \n",
              "4    30/09/2014   1242.8300    497.141501       232.027   1552.908   \n",
              "\n",
              "          ncwc         bv             y  \n",
              "0  16848.90000  47945.100   91760.80000  \n",
              "1  12095.10000  66804.400  184461.70000  \n",
              "2   1468.42800  10128.726   23323.68520  \n",
              "3  11873.25464  27144.930  130202.79240  \n",
              "4    149.97100   1463.052   11472.12267  "
            ],
            "text/html": [
              "\n",
              "  <div id=\"df-88837b26-b8a2-4bc3-9917-84c4318d707b\" class=\"colab-df-container\">\n",
              "    <div>\n",
              "<style scoped>\n",
              "    .dataframe tbody tr th:only-of-type {\n",
              "        vertical-align: middle;\n",
              "    }\n",
              "\n",
              "    .dataframe tbody tr th {\n",
              "        vertical-align: top;\n",
              "    }\n",
              "\n",
              "    .dataframe thead th {\n",
              "        text-align: right;\n",
              "    }\n",
              "</style>\n",
              "<table border=\"1\" class=\"dataframe\">\n",
              "  <thead>\n",
              "    <tr style=\"text-align: right;\">\n",
              "      <th></th>\n",
              "      <th>valuationdate</th>\n",
              "      <th>revenues</th>\n",
              "      <th>ebit</th>\n",
              "      <th>depreciation</th>\n",
              "      <th>capex</th>\n",
              "      <th>ncwc</th>\n",
              "      <th>bv</th>\n",
              "      <th>y</th>\n",
              "    </tr>\n",
              "  </thead>\n",
              "  <tbody>\n",
              "    <tr>\n",
              "      <th>0</th>\n",
              "      <td>30/06/2011</td>\n",
              "      <td>86470.7000</td>\n",
              "      <td>10387.500000</td>\n",
              "      <td>6429.000</td>\n",
              "      <td>3512.000</td>\n",
              "      <td>16848.90000</td>\n",
              "      <td>47945.100</td>\n",
              "      <td>91760.80000</td>\n",
              "    </tr>\n",
              "    <tr>\n",
              "      <th>1</th>\n",
              "      <td>31/12/2010</td>\n",
              "      <td>84754.2000</td>\n",
              "      <td>14031.180800</td>\n",
              "      <td>8658.600</td>\n",
              "      <td>17172.500</td>\n",
              "      <td>12095.10000</td>\n",
              "      <td>66804.400</td>\n",
              "      <td>184461.70000</td>\n",
              "    </tr>\n",
              "    <tr>\n",
              "      <th>2</th>\n",
              "      <td>30/09/2016</td>\n",
              "      <td>15653.4800</td>\n",
              "      <td>221.347452</td>\n",
              "      <td>647.239</td>\n",
              "      <td>749.478</td>\n",
              "      <td>1468.42800</td>\n",
              "      <td>10128.726</td>\n",
              "      <td>23323.68520</td>\n",
              "    </tr>\n",
              "    <tr>\n",
              "      <th>3</th>\n",
              "      <td>30/09/2018</td>\n",
              "      <td>62001.3297</td>\n",
              "      <td>7551.761957</td>\n",
              "      <td>1808.830</td>\n",
              "      <td>2702.850</td>\n",
              "      <td>11873.25464</td>\n",
              "      <td>27144.930</td>\n",
              "      <td>130202.79240</td>\n",
              "    </tr>\n",
              "    <tr>\n",
              "      <th>4</th>\n",
              "      <td>30/09/2014</td>\n",
              "      <td>1242.8300</td>\n",
              "      <td>497.141501</td>\n",
              "      <td>232.027</td>\n",
              "      <td>1552.908</td>\n",
              "      <td>149.97100</td>\n",
              "      <td>1463.052</td>\n",
              "      <td>11472.12267</td>\n",
              "    </tr>\n",
              "  </tbody>\n",
              "</table>\n",
              "</div>\n",
              "    <div class=\"colab-df-buttons\">\n",
              "\n",
              "  <div class=\"colab-df-container\">\n",
              "    <button class=\"colab-df-convert\" onclick=\"convertToInteractive('df-88837b26-b8a2-4bc3-9917-84c4318d707b')\"\n",
              "            title=\"Convert this dataframe to an interactive table.\"\n",
              "            style=\"display:none;\">\n",
              "\n",
              "  <svg xmlns=\"http://www.w3.org/2000/svg\" height=\"24px\" viewBox=\"0 -960 960 960\">\n",
              "    <path d=\"M120-120v-720h720v720H120Zm60-500h600v-160H180v160Zm220 220h160v-160H400v160Zm0 220h160v-160H400v160ZM180-400h160v-160H180v160Zm440 0h160v-160H620v160ZM180-180h160v-160H180v160Zm440 0h160v-160H620v160Z\"/>\n",
              "  </svg>\n",
              "    </button>\n",
              "\n",
              "  <style>\n",
              "    .colab-df-container {\n",
              "      display:flex;\n",
              "      gap: 12px;\n",
              "    }\n",
              "\n",
              "    .colab-df-convert {\n",
              "      background-color: #E8F0FE;\n",
              "      border: none;\n",
              "      border-radius: 50%;\n",
              "      cursor: pointer;\n",
              "      display: none;\n",
              "      fill: #1967D2;\n",
              "      height: 32px;\n",
              "      padding: 0 0 0 0;\n",
              "      width: 32px;\n",
              "    }\n",
              "\n",
              "    .colab-df-convert:hover {\n",
              "      background-color: #E2EBFA;\n",
              "      box-shadow: 0px 1px 2px rgba(60, 64, 67, 0.3), 0px 1px 3px 1px rgba(60, 64, 67, 0.15);\n",
              "      fill: #174EA6;\n",
              "    }\n",
              "\n",
              "    .colab-df-buttons div {\n",
              "      margin-bottom: 4px;\n",
              "    }\n",
              "\n",
              "    [theme=dark] .colab-df-convert {\n",
              "      background-color: #3B4455;\n",
              "      fill: #D2E3FC;\n",
              "    }\n",
              "\n",
              "    [theme=dark] .colab-df-convert:hover {\n",
              "      background-color: #434B5C;\n",
              "      box-shadow: 0px 1px 3px 1px rgba(0, 0, 0, 0.15);\n",
              "      filter: drop-shadow(0px 1px 2px rgba(0, 0, 0, 0.3));\n",
              "      fill: #FFFFFF;\n",
              "    }\n",
              "  </style>\n",
              "\n",
              "    <script>\n",
              "      const buttonEl =\n",
              "        document.querySelector('#df-88837b26-b8a2-4bc3-9917-84c4318d707b button.colab-df-convert');\n",
              "      buttonEl.style.display =\n",
              "        google.colab.kernel.accessAllowed ? 'block' : 'none';\n",
              "\n",
              "      async function convertToInteractive(key) {\n",
              "        const element = document.querySelector('#df-88837b26-b8a2-4bc3-9917-84c4318d707b');\n",
              "        const dataTable =\n",
              "          await google.colab.kernel.invokeFunction('convertToInteractive',\n",
              "                                                    [key], {});\n",
              "        if (!dataTable) return;\n",
              "\n",
              "        const docLinkHtml = 'Like what you see? Visit the ' +\n",
              "          '<a target=\"_blank\" href=https://colab.research.google.com/notebooks/data_table.ipynb>data table notebook</a>'\n",
              "          + ' to learn more about interactive tables.';\n",
              "        element.innerHTML = '';\n",
              "        dataTable['output_type'] = 'display_data';\n",
              "        await google.colab.output.renderOutput(dataTable, element);\n",
              "        const docLink = document.createElement('div');\n",
              "        docLink.innerHTML = docLinkHtml;\n",
              "        element.appendChild(docLink);\n",
              "      }\n",
              "    </script>\n",
              "  </div>\n",
              "\n",
              "\n",
              "<div id=\"df-31f81186-ca7f-4db5-905b-9f9e310da92b\">\n",
              "  <button class=\"colab-df-quickchart\" onclick=\"quickchart('df-31f81186-ca7f-4db5-905b-9f9e310da92b')\"\n",
              "            title=\"Suggest charts\"\n",
              "            style=\"display:none;\">\n",
              "\n",
              "<svg xmlns=\"http://www.w3.org/2000/svg\" height=\"24px\"viewBox=\"0 0 24 24\"\n",
              "     width=\"24px\">\n",
              "    <g>\n",
              "        <path d=\"M19 3H5c-1.1 0-2 .9-2 2v14c0 1.1.9 2 2 2h14c1.1 0 2-.9 2-2V5c0-1.1-.9-2-2-2zM9 17H7v-7h2v7zm4 0h-2V7h2v10zm4 0h-2v-4h2v4z\"/>\n",
              "    </g>\n",
              "</svg>\n",
              "  </button>\n",
              "\n",
              "<style>\n",
              "  .colab-df-quickchart {\n",
              "      --bg-color: #E8F0FE;\n",
              "      --fill-color: #1967D2;\n",
              "      --hover-bg-color: #E2EBFA;\n",
              "      --hover-fill-color: #174EA6;\n",
              "      --disabled-fill-color: #AAA;\n",
              "      --disabled-bg-color: #DDD;\n",
              "  }\n",
              "\n",
              "  [theme=dark] .colab-df-quickchart {\n",
              "      --bg-color: #3B4455;\n",
              "      --fill-color: #D2E3FC;\n",
              "      --hover-bg-color: #434B5C;\n",
              "      --hover-fill-color: #FFFFFF;\n",
              "      --disabled-bg-color: #3B4455;\n",
              "      --disabled-fill-color: #666;\n",
              "  }\n",
              "\n",
              "  .colab-df-quickchart {\n",
              "    background-color: var(--bg-color);\n",
              "    border: none;\n",
              "    border-radius: 50%;\n",
              "    cursor: pointer;\n",
              "    display: none;\n",
              "    fill: var(--fill-color);\n",
              "    height: 32px;\n",
              "    padding: 0;\n",
              "    width: 32px;\n",
              "  }\n",
              "\n",
              "  .colab-df-quickchart:hover {\n",
              "    background-color: var(--hover-bg-color);\n",
              "    box-shadow: 0 1px 2px rgba(60, 64, 67, 0.3), 0 1px 3px 1px rgba(60, 64, 67, 0.15);\n",
              "    fill: var(--button-hover-fill-color);\n",
              "  }\n",
              "\n",
              "  .colab-df-quickchart-complete:disabled,\n",
              "  .colab-df-quickchart-complete:disabled:hover {\n",
              "    background-color: var(--disabled-bg-color);\n",
              "    fill: var(--disabled-fill-color);\n",
              "    box-shadow: none;\n",
              "  }\n",
              "\n",
              "  .colab-df-spinner {\n",
              "    border: 2px solid var(--fill-color);\n",
              "    border-color: transparent;\n",
              "    border-bottom-color: var(--fill-color);\n",
              "    animation:\n",
              "      spin 1s steps(1) infinite;\n",
              "  }\n",
              "\n",
              "  @keyframes spin {\n",
              "    0% {\n",
              "      border-color: transparent;\n",
              "      border-bottom-color: var(--fill-color);\n",
              "      border-left-color: var(--fill-color);\n",
              "    }\n",
              "    20% {\n",
              "      border-color: transparent;\n",
              "      border-left-color: var(--fill-color);\n",
              "      border-top-color: var(--fill-color);\n",
              "    }\n",
              "    30% {\n",
              "      border-color: transparent;\n",
              "      border-left-color: var(--fill-color);\n",
              "      border-top-color: var(--fill-color);\n",
              "      border-right-color: var(--fill-color);\n",
              "    }\n",
              "    40% {\n",
              "      border-color: transparent;\n",
              "      border-right-color: var(--fill-color);\n",
              "      border-top-color: var(--fill-color);\n",
              "    }\n",
              "    60% {\n",
              "      border-color: transparent;\n",
              "      border-right-color: var(--fill-color);\n",
              "    }\n",
              "    80% {\n",
              "      border-color: transparent;\n",
              "      border-right-color: var(--fill-color);\n",
              "      border-bottom-color: var(--fill-color);\n",
              "    }\n",
              "    90% {\n",
              "      border-color: transparent;\n",
              "      border-bottom-color: var(--fill-color);\n",
              "    }\n",
              "  }\n",
              "</style>\n",
              "\n",
              "  <script>\n",
              "    async function quickchart(key) {\n",
              "      const quickchartButtonEl =\n",
              "        document.querySelector('#' + key + ' button');\n",
              "      quickchartButtonEl.disabled = true;  // To prevent multiple clicks.\n",
              "      quickchartButtonEl.classList.add('colab-df-spinner');\n",
              "      try {\n",
              "        const charts = await google.colab.kernel.invokeFunction(\n",
              "            'suggestCharts', [key], {});\n",
              "      } catch (error) {\n",
              "        console.error('Error during call to suggestCharts:', error);\n",
              "      }\n",
              "      quickchartButtonEl.classList.remove('colab-df-spinner');\n",
              "      quickchartButtonEl.classList.add('colab-df-quickchart-complete');\n",
              "    }\n",
              "    (() => {\n",
              "      let quickchartButtonEl =\n",
              "        document.querySelector('#df-31f81186-ca7f-4db5-905b-9f9e310da92b button');\n",
              "      quickchartButtonEl.style.display =\n",
              "        google.colab.kernel.accessAllowed ? 'block' : 'none';\n",
              "    })();\n",
              "  </script>\n",
              "</div>\n",
              "\n",
              "    </div>\n",
              "  </div>\n"
            ],
            "application/vnd.google.colaboratory.intrinsic+json": {
              "type": "dataframe",
              "variable_name": "df",
              "summary": "{\n  \"name\": \"df\",\n  \"rows\": 1061,\n  \"fields\": [\n    {\n      \"column\": \"valuationdate\",\n      \"properties\": {\n        \"dtype\": \"category\",\n        \"num_unique_values\": 49,\n        \"samples\": [\n          \"31/03/2020\",\n          \"30/06/2017\",\n          \"31/12/2018\"\n        ],\n        \"semantic_type\": \"\",\n        \"description\": \"\"\n      }\n    },\n    {\n      \"column\": \"revenues\",\n      \"properties\": {\n        \"dtype\": \"number\",\n        \"std\": 221382.7533677901,\n        \"min\": 85.6,\n        \"max\": 2586711.9,\n        \"num_unique_values\": 1060,\n        \"samples\": [\n          140085.0,\n          181429.1,\n          34462.787\n        ],\n        \"semantic_type\": \"\",\n        \"description\": \"\"\n      }\n    },\n    {\n      \"column\": \"ebit\",\n      \"properties\": {\n        \"dtype\": \"number\",\n        \"std\": 31871.07655869133,\n        \"min\": -29982.97988,\n        \"max\": 289541.3,\n        \"num_unique_values\": 1061,\n        \"samples\": [\n          5786.05018,\n          19143.356,\n          26110.491\n        ],\n        \"semantic_type\": \"\",\n        \"description\": \"\"\n      }\n    },\n    {\n      \"column\": \"depreciation\",\n      \"properties\": {\n        \"dtype\": \"number\",\n        \"std\": 13898.135849449449,\n        \"min\": -5.69,\n        \"max\": 128993.5,\n        \"num_unique_values\": 1059,\n        \"samples\": [\n          1266.333,\n          3073.49,\n          1106.583\n        ],\n        \"semantic_type\": \"\",\n        \"description\": \"\"\n      }\n    },\n    {\n      \"column\": \"capex\",\n      \"properties\": {\n        \"dtype\": \"number\",\n        \"std\": 20250.735197325204,\n        \"min\": -694.661,\n        \"max\": 205525.7,\n        \"num_unique_values\": 1059,\n        \"samples\": [\n          5375.4,\n          4574.8,\n          2380.899\n        ],\n        \"semantic_type\": \"\",\n        \"description\": \"\"\n      }\n    },\n    {\n      \"column\": \"ncwc\",\n      \"properties\": {\n        \"dtype\": \"number\",\n        \"std\": 54636.42153952822,\n        \"min\": -118819.899,\n        \"max\": 623588.7,\n        \"num_unique_values\": 1061,\n        \"samples\": [\n          6842.249303,\n          11882.335,\n          34290.448\n        ],\n        \"semantic_type\": \"\",\n        \"description\": \"\"\n      }\n    },\n    {\n      \"column\": \"bv\",\n      \"properties\": {\n        \"dtype\": \"number\",\n        \"std\": 104349.9846115421,\n        \"min\": -15039.647,\n        \"max\": 1009025.8,\n        \"num_unique_values\": 1061,\n        \"samples\": [\n          45349.4,\n          39194.21,\n          71135.787\n        ],\n        \"semantic_type\": \"\",\n        \"description\": \"\"\n      }\n    },\n    {\n      \"column\": \"y\",\n      \"properties\": {\n        \"dtype\": \"number\",\n        \"std\": 405670.0618926025,\n        \"min\": 369.2,\n        \"max\": 4175891.774,\n        \"num_unique_values\": 1061,\n        \"samples\": [\n          122183.9,\n          157365.1432,\n          508840.3663\n        ],\n        \"semantic_type\": \"\",\n        \"description\": \"\"\n      }\n    }\n  ]\n}"
            }
          },
          "metadata": {},
          "execution_count": 19
        }
      ],
      "source": [
        "df.head()"
      ]
    },
    {
      "cell_type": "code",
      "source": [
        "df.tail()"
      ],
      "metadata": {
        "id": "c6ZawrS6WVAo",
        "outputId": "9f5c70a7-ad5b-42b3-c0fc-d7626c5269a9",
        "colab": {
          "base_uri": "https://localhost:8080/",
          "height": 206
        }
      },
      "id": "c6ZawrS6WVAo",
      "execution_count": 20,
      "outputs": [
        {
          "output_type": "execute_result",
          "data": {
            "text/plain": [
              "     valuationdate    revenues        ebit  depreciation      capex  \\\n",
              "1056    30/09/2017  119576.800   3591.5910      1525.635   1316.743   \n",
              "1057    31/12/2019  342991.848  -4428.6830     17253.700  32412.939   \n",
              "1058    30/06/2011   55019.300  15640.2609      4929.800   8653.000   \n",
              "1059    30/09/2012     129.000     34.7000         5.600      1.700   \n",
              "1060    31/03/2017  622045.081  40670.8560     12413.254  12940.654   \n",
              "\n",
              "           ncwc          bv             y  \n",
              "1056   7680.474    9648.771   63291.07954  \n",
              "1057 -18999.313   83806.330  432082.31830  \n",
              "1058   4124.900   58128.300  189022.60000  \n",
              "1059     15.700     460.200     631.30000  \n",
              "1060  43566.142  119065.961  586127.47150  "
            ],
            "text/html": [
              "\n",
              "  <div id=\"df-5ed0caf0-cce9-4f43-995a-ff36fb087951\" class=\"colab-df-container\">\n",
              "    <div>\n",
              "<style scoped>\n",
              "    .dataframe tbody tr th:only-of-type {\n",
              "        vertical-align: middle;\n",
              "    }\n",
              "\n",
              "    .dataframe tbody tr th {\n",
              "        vertical-align: top;\n",
              "    }\n",
              "\n",
              "    .dataframe thead th {\n",
              "        text-align: right;\n",
              "    }\n",
              "</style>\n",
              "<table border=\"1\" class=\"dataframe\">\n",
              "  <thead>\n",
              "    <tr style=\"text-align: right;\">\n",
              "      <th></th>\n",
              "      <th>valuationdate</th>\n",
              "      <th>revenues</th>\n",
              "      <th>ebit</th>\n",
              "      <th>depreciation</th>\n",
              "      <th>capex</th>\n",
              "      <th>ncwc</th>\n",
              "      <th>bv</th>\n",
              "      <th>y</th>\n",
              "    </tr>\n",
              "  </thead>\n",
              "  <tbody>\n",
              "    <tr>\n",
              "      <th>1056</th>\n",
              "      <td>30/09/2017</td>\n",
              "      <td>119576.800</td>\n",
              "      <td>3591.5910</td>\n",
              "      <td>1525.635</td>\n",
              "      <td>1316.743</td>\n",
              "      <td>7680.474</td>\n",
              "      <td>9648.771</td>\n",
              "      <td>63291.07954</td>\n",
              "    </tr>\n",
              "    <tr>\n",
              "      <th>1057</th>\n",
              "      <td>31/12/2019</td>\n",
              "      <td>342991.848</td>\n",
              "      <td>-4428.6830</td>\n",
              "      <td>17253.700</td>\n",
              "      <td>32412.939</td>\n",
              "      <td>-18999.313</td>\n",
              "      <td>83806.330</td>\n",
              "      <td>432082.31830</td>\n",
              "    </tr>\n",
              "    <tr>\n",
              "      <th>1058</th>\n",
              "      <td>30/06/2011</td>\n",
              "      <td>55019.300</td>\n",
              "      <td>15640.2609</td>\n",
              "      <td>4929.800</td>\n",
              "      <td>8653.000</td>\n",
              "      <td>4124.900</td>\n",
              "      <td>58128.300</td>\n",
              "      <td>189022.60000</td>\n",
              "    </tr>\n",
              "    <tr>\n",
              "      <th>1059</th>\n",
              "      <td>30/09/2012</td>\n",
              "      <td>129.000</td>\n",
              "      <td>34.7000</td>\n",
              "      <td>5.600</td>\n",
              "      <td>1.700</td>\n",
              "      <td>15.700</td>\n",
              "      <td>460.200</td>\n",
              "      <td>631.30000</td>\n",
              "    </tr>\n",
              "    <tr>\n",
              "      <th>1060</th>\n",
              "      <td>31/03/2017</td>\n",
              "      <td>622045.081</td>\n",
              "      <td>40670.8560</td>\n",
              "      <td>12413.254</td>\n",
              "      <td>12940.654</td>\n",
              "      <td>43566.142</td>\n",
              "      <td>119065.961</td>\n",
              "      <td>586127.47150</td>\n",
              "    </tr>\n",
              "  </tbody>\n",
              "</table>\n",
              "</div>\n",
              "    <div class=\"colab-df-buttons\">\n",
              "\n",
              "  <div class=\"colab-df-container\">\n",
              "    <button class=\"colab-df-convert\" onclick=\"convertToInteractive('df-5ed0caf0-cce9-4f43-995a-ff36fb087951')\"\n",
              "            title=\"Convert this dataframe to an interactive table.\"\n",
              "            style=\"display:none;\">\n",
              "\n",
              "  <svg xmlns=\"http://www.w3.org/2000/svg\" height=\"24px\" viewBox=\"0 -960 960 960\">\n",
              "    <path d=\"M120-120v-720h720v720H120Zm60-500h600v-160H180v160Zm220 220h160v-160H400v160Zm0 220h160v-160H400v160ZM180-400h160v-160H180v160Zm440 0h160v-160H620v160ZM180-180h160v-160H180v160Zm440 0h160v-160H620v160Z\"/>\n",
              "  </svg>\n",
              "    </button>\n",
              "\n",
              "  <style>\n",
              "    .colab-df-container {\n",
              "      display:flex;\n",
              "      gap: 12px;\n",
              "    }\n",
              "\n",
              "    .colab-df-convert {\n",
              "      background-color: #E8F0FE;\n",
              "      border: none;\n",
              "      border-radius: 50%;\n",
              "      cursor: pointer;\n",
              "      display: none;\n",
              "      fill: #1967D2;\n",
              "      height: 32px;\n",
              "      padding: 0 0 0 0;\n",
              "      width: 32px;\n",
              "    }\n",
              "\n",
              "    .colab-df-convert:hover {\n",
              "      background-color: #E2EBFA;\n",
              "      box-shadow: 0px 1px 2px rgba(60, 64, 67, 0.3), 0px 1px 3px 1px rgba(60, 64, 67, 0.15);\n",
              "      fill: #174EA6;\n",
              "    }\n",
              "\n",
              "    .colab-df-buttons div {\n",
              "      margin-bottom: 4px;\n",
              "    }\n",
              "\n",
              "    [theme=dark] .colab-df-convert {\n",
              "      background-color: #3B4455;\n",
              "      fill: #D2E3FC;\n",
              "    }\n",
              "\n",
              "    [theme=dark] .colab-df-convert:hover {\n",
              "      background-color: #434B5C;\n",
              "      box-shadow: 0px 1px 3px 1px rgba(0, 0, 0, 0.15);\n",
              "      filter: drop-shadow(0px 1px 2px rgba(0, 0, 0, 0.3));\n",
              "      fill: #FFFFFF;\n",
              "    }\n",
              "  </style>\n",
              "\n",
              "    <script>\n",
              "      const buttonEl =\n",
              "        document.querySelector('#df-5ed0caf0-cce9-4f43-995a-ff36fb087951 button.colab-df-convert');\n",
              "      buttonEl.style.display =\n",
              "        google.colab.kernel.accessAllowed ? 'block' : 'none';\n",
              "\n",
              "      async function convertToInteractive(key) {\n",
              "        const element = document.querySelector('#df-5ed0caf0-cce9-4f43-995a-ff36fb087951');\n",
              "        const dataTable =\n",
              "          await google.colab.kernel.invokeFunction('convertToInteractive',\n",
              "                                                    [key], {});\n",
              "        if (!dataTable) return;\n",
              "\n",
              "        const docLinkHtml = 'Like what you see? Visit the ' +\n",
              "          '<a target=\"_blank\" href=https://colab.research.google.com/notebooks/data_table.ipynb>data table notebook</a>'\n",
              "          + ' to learn more about interactive tables.';\n",
              "        element.innerHTML = '';\n",
              "        dataTable['output_type'] = 'display_data';\n",
              "        await google.colab.output.renderOutput(dataTable, element);\n",
              "        const docLink = document.createElement('div');\n",
              "        docLink.innerHTML = docLinkHtml;\n",
              "        element.appendChild(docLink);\n",
              "      }\n",
              "    </script>\n",
              "  </div>\n",
              "\n",
              "\n",
              "<div id=\"df-fcb0e580-e5ed-4590-b7a3-e8d948785713\">\n",
              "  <button class=\"colab-df-quickchart\" onclick=\"quickchart('df-fcb0e580-e5ed-4590-b7a3-e8d948785713')\"\n",
              "            title=\"Suggest charts\"\n",
              "            style=\"display:none;\">\n",
              "\n",
              "<svg xmlns=\"http://www.w3.org/2000/svg\" height=\"24px\"viewBox=\"0 0 24 24\"\n",
              "     width=\"24px\">\n",
              "    <g>\n",
              "        <path d=\"M19 3H5c-1.1 0-2 .9-2 2v14c0 1.1.9 2 2 2h14c1.1 0 2-.9 2-2V5c0-1.1-.9-2-2-2zM9 17H7v-7h2v7zm4 0h-2V7h2v10zm4 0h-2v-4h2v4z\"/>\n",
              "    </g>\n",
              "</svg>\n",
              "  </button>\n",
              "\n",
              "<style>\n",
              "  .colab-df-quickchart {\n",
              "      --bg-color: #E8F0FE;\n",
              "      --fill-color: #1967D2;\n",
              "      --hover-bg-color: #E2EBFA;\n",
              "      --hover-fill-color: #174EA6;\n",
              "      --disabled-fill-color: #AAA;\n",
              "      --disabled-bg-color: #DDD;\n",
              "  }\n",
              "\n",
              "  [theme=dark] .colab-df-quickchart {\n",
              "      --bg-color: #3B4455;\n",
              "      --fill-color: #D2E3FC;\n",
              "      --hover-bg-color: #434B5C;\n",
              "      --hover-fill-color: #FFFFFF;\n",
              "      --disabled-bg-color: #3B4455;\n",
              "      --disabled-fill-color: #666;\n",
              "  }\n",
              "\n",
              "  .colab-df-quickchart {\n",
              "    background-color: var(--bg-color);\n",
              "    border: none;\n",
              "    border-radius: 50%;\n",
              "    cursor: pointer;\n",
              "    display: none;\n",
              "    fill: var(--fill-color);\n",
              "    height: 32px;\n",
              "    padding: 0;\n",
              "    width: 32px;\n",
              "  }\n",
              "\n",
              "  .colab-df-quickchart:hover {\n",
              "    background-color: var(--hover-bg-color);\n",
              "    box-shadow: 0 1px 2px rgba(60, 64, 67, 0.3), 0 1px 3px 1px rgba(60, 64, 67, 0.15);\n",
              "    fill: var(--button-hover-fill-color);\n",
              "  }\n",
              "\n",
              "  .colab-df-quickchart-complete:disabled,\n",
              "  .colab-df-quickchart-complete:disabled:hover {\n",
              "    background-color: var(--disabled-bg-color);\n",
              "    fill: var(--disabled-fill-color);\n",
              "    box-shadow: none;\n",
              "  }\n",
              "\n",
              "  .colab-df-spinner {\n",
              "    border: 2px solid var(--fill-color);\n",
              "    border-color: transparent;\n",
              "    border-bottom-color: var(--fill-color);\n",
              "    animation:\n",
              "      spin 1s steps(1) infinite;\n",
              "  }\n",
              "\n",
              "  @keyframes spin {\n",
              "    0% {\n",
              "      border-color: transparent;\n",
              "      border-bottom-color: var(--fill-color);\n",
              "      border-left-color: var(--fill-color);\n",
              "    }\n",
              "    20% {\n",
              "      border-color: transparent;\n",
              "      border-left-color: var(--fill-color);\n",
              "      border-top-color: var(--fill-color);\n",
              "    }\n",
              "    30% {\n",
              "      border-color: transparent;\n",
              "      border-left-color: var(--fill-color);\n",
              "      border-top-color: var(--fill-color);\n",
              "      border-right-color: var(--fill-color);\n",
              "    }\n",
              "    40% {\n",
              "      border-color: transparent;\n",
              "      border-right-color: var(--fill-color);\n",
              "      border-top-color: var(--fill-color);\n",
              "    }\n",
              "    60% {\n",
              "      border-color: transparent;\n",
              "      border-right-color: var(--fill-color);\n",
              "    }\n",
              "    80% {\n",
              "      border-color: transparent;\n",
              "      border-right-color: var(--fill-color);\n",
              "      border-bottom-color: var(--fill-color);\n",
              "    }\n",
              "    90% {\n",
              "      border-color: transparent;\n",
              "      border-bottom-color: var(--fill-color);\n",
              "    }\n",
              "  }\n",
              "</style>\n",
              "\n",
              "  <script>\n",
              "    async function quickchart(key) {\n",
              "      const quickchartButtonEl =\n",
              "        document.querySelector('#' + key + ' button');\n",
              "      quickchartButtonEl.disabled = true;  // To prevent multiple clicks.\n",
              "      quickchartButtonEl.classList.add('colab-df-spinner');\n",
              "      try {\n",
              "        const charts = await google.colab.kernel.invokeFunction(\n",
              "            'suggestCharts', [key], {});\n",
              "      } catch (error) {\n",
              "        console.error('Error during call to suggestCharts:', error);\n",
              "      }\n",
              "      quickchartButtonEl.classList.remove('colab-df-spinner');\n",
              "      quickchartButtonEl.classList.add('colab-df-quickchart-complete');\n",
              "    }\n",
              "    (() => {\n",
              "      let quickchartButtonEl =\n",
              "        document.querySelector('#df-fcb0e580-e5ed-4590-b7a3-e8d948785713 button');\n",
              "      quickchartButtonEl.style.display =\n",
              "        google.colab.kernel.accessAllowed ? 'block' : 'none';\n",
              "    })();\n",
              "  </script>\n",
              "</div>\n",
              "\n",
              "    </div>\n",
              "  </div>\n"
            ],
            "application/vnd.google.colaboratory.intrinsic+json": {
              "type": "dataframe",
              "repr_error": "0"
            }
          },
          "metadata": {},
          "execution_count": 20
        }
      ]
    },
    {
      "cell_type": "markdown",
      "id": "a80a3bc6",
      "metadata": {
        "id": "a80a3bc6"
      },
      "source": [
        "### Estadísticas Descriptivas y Distribuciones"
      ]
    },
    {
      "cell_type": "code",
      "execution_count": 21,
      "id": "e4ea6e54",
      "metadata": {
        "id": "e4ea6e54"
      },
      "outputs": [],
      "source": [
        "\n",
        "X = df[['revenues', 'ebit', 'depreciation', 'capex', 'ncwc', 'bv']]\n",
        "y = df['y']\n"
      ]
    },
    {
      "cell_type": "markdown",
      "source": [
        "1 Tipo de problema a resolver\n",
        "* regresion, varables fiancieras y posible valor en libros\n",
        "2\n",
        "* Los outliers pueden distorsionar la línea de regresión, haciendo que el modelo se ajuste a los valores extremos en lugar de la tendencia general de los datos.\n",
        "3\n",
        "*  podría aportar información para predecir y en ciertos casos, pero en otros podría ser irrelevante o incluso perjudicial. Aquí hay algunas consideraciones:"
      ],
      "metadata": {
        "id": "BJxrPFbca42e"
      },
      "id": "BJxrPFbca42e"
    },
    {
      "cell_type": "markdown",
      "source": [],
      "metadata": {
        "id": "kUL6c-mNbir2"
      },
      "id": "kUL6c-mNbir2"
    },
    {
      "cell_type": "markdown",
      "id": "9651d690",
      "metadata": {
        "id": "9651d690"
      },
      "source": [
        "### Preguntas de Reflexión (Exploración)\n",
        "1. ¿Qué tipo de problema estás intentando resolver al usar `y` como variable objetivo?\n",
        "2. ¿Notas valores atípicos (outliers) en alguna de las variables? ¿Cómo podría afectar a la regresión lineal?\n",
        "3. ¿Crees que la columna `valuationdate` podría aportar información para predecir `y`, o la excluirías del análisis?\n",
        "\n",
        "_Responde con tu razonamiento propio aquí._"
      ]
    },
    {
      "cell_type": "markdown",
      "id": "32046c34",
      "metadata": {
        "id": "32046c34"
      },
      "source": [
        "## Paso 2: Preparación y Limpieza de Datos\n",
        "\n",
        "1. **Manejo de valores faltantes**.\n",
        "2. **Posible eliminación** o **imputación** de outliers.\n",
        "3. **Transformaciones** (escalado, log, etc.) si son necesarias."
      ]
    },
    {
      "cell_type": "code",
      "execution_count": 35,
      "id": "f5b80422",
      "metadata": {
        "id": "f5b80422",
        "outputId": "d8a783a4-bf92-4822-a647-8fa91eeb2294",
        "colab": {
          "base_uri": "https://localhost:8080/"
        }
      },
      "outputs": [
        {
          "output_type": "stream",
          "name": "stdout",
          "text": [
            "valuationdate    0\n",
            "revenues         0\n",
            "ebit             0\n",
            "depreciation     0\n",
            "capex            0\n",
            "ncwc             0\n",
            "bv               0\n",
            "y                0\n",
            "dtype: int64\n"
          ]
        }
      ],
      "source": [
        "print(df.isnull().sum())\n"
      ]
    },
    {
      "cell_type": "code",
      "source": [
        "for col in X.columns:\n",
        "    if X[col].isnull().any():\n",
        "        X[col].fillna(X[col].mean(), inplace=True)"
      ],
      "metadata": {
        "id": "mPhv8s7TZHPn"
      },
      "id": "mPhv8s7TZHPn",
      "execution_count": 22,
      "outputs": []
    },
    {
      "cell_type": "code",
      "source": [
        "def remove_Outliers(df, columns):\n",
        "    Q1 = df[columns].quantile(0.25)\n",
        "    Q3 = df[columns].quantile(0.75)\n",
        "    IQR = Q3 - Q1\n",
        "    lower_bound = Q1 - 1.5 * IQR\n",
        "    upper_bound = Q3 + 1.5 * IQR\n",
        "    df = df[(df[columns] >= lower_bound) & (df[columns] <= upper_bound)]\n",
        ""
      ],
      "metadata": {
        "id": "HmTMwEfTZKFm"
      },
      "id": "HmTMwEfTZKFm",
      "execution_count": 31,
      "outputs": []
    },
    {
      "cell_type": "code",
      "source": [
        "from sklearn.preprocessing import StandardScaler\n",
        "\n",
        "scaler = StandardScaler()\n",
        "X_scaled = scaler.fit_transform(X)\n",
        "X = pd.DataFrame(X_scaled, columns=X.columns)\n"
      ],
      "metadata": {
        "id": "NO4WzIMGaWCe"
      },
      "id": "NO4WzIMGaWCe",
      "execution_count": 34,
      "outputs": []
    },
    {
      "cell_type": "markdown",
      "source": [],
      "metadata": {
        "id": "dzxwEHRfcMHV"
      },
      "id": "dzxwEHRfcMHV"
    },
    {
      "cell_type": "markdown",
      "id": "2f0ef045",
      "metadata": {
        "id": "2f0ef045"
      },
      "source": [
        "### Pregunta de Reflexión (Limpieza)\n",
        "¿Por qué es relevante tratar valores faltantes y/o outliers **antes** de entrenar el modelo de regresión lineal?\n",
        "\n",
        "_Responde con tu razonamiento aquí._"
      ]
    },
    {
      "cell_type": "markdown",
      "source": [
        "Tratar los valors faltantes y los outiliers ayuda a mejorar la precision del modelo, al ajuste a la tendencia y tener mejores interpretaciones"
      ],
      "metadata": {
        "id": "wB6KjaVJcihd"
      },
      "id": "wB6KjaVJcihd"
    },
    {
      "cell_type": "code",
      "source": [
        "def remove_Outliers(df, columns):\n",
        "    for col in columns:\n",
        "        Q1 = df[col].quantile(0.25)\n",
        "        Q3 = df[col].quantile(0.75)\n",
        "        IQR = Q3 - Q1\n",
        "        lower_bound = Q1 - 1.5 * IQR\n",
        "        upper_bound = Q3 + 1.5 * IQR\n",
        "        df = df[(df[col] >= lower_bound) & (df[col] <= upper_bound)]\n",
        "    return df\n"
      ],
      "metadata": {
        "id": "fE_Uph04gkKM"
      },
      "id": "fE_Uph04gkKM",
      "execution_count": 55,
      "outputs": []
    },
    {
      "cell_type": "markdown",
      "id": "38c1f6f8",
      "metadata": {
        "id": "38c1f6f8"
      },
      "source": [
        "## Paso 4: Selección de Variables e Implementación del Modelo\n",
        "\n",
        "1. **Seleccionar** cuáles columnas usarás como variables explicativas (features). Puede que uses todas o hagas una selección.\n",
        "2. **Asignar** `X` (features) y `y` (variable objetivo).\n",
        "3. **Dividir** en conjunto de entrenamiento (train) y conjunto de prueba (test)."
      ]
    },
    {
      "cell_type": "markdown",
      "id": "2958d1c2",
      "metadata": {
        "id": "2958d1c2"
      },
      "source": [
        "### Preguntas de Reflexión (Selección de Variables)\n",
        "1. ¿Por qué es importante separar los datos en train y test?\n",
        "2. ¿Qué pasaría si entrenas y evalúas en el **mismo** conjunto de datos?\n",
        "\n",
        "_Responde con tu razonamiento._"
      ]
    },
    {
      "cell_type": "markdown",
      "id": "3b685686",
      "metadata": {
        "id": "3b685686"
      },
      "source": [
        "## Paso 5: Entrenar el Modelo de Regresión Lineal\n",
        "Usaremos la clase `LinearRegression` de scikit-learn."
      ]
    },
    {
      "cell_type": "markdown",
      "id": "994fd089",
      "metadata": {
        "id": "994fd089"
      },
      "source": [
        "### Interpretación de Coeficientes\n",
        "Si la lista de features es `[\"revenues\", \"ebit\", \"depreciation\", \"capex\", \"ncwc\", \"bv\"]` y tu `model.coef_` es algo como `[a, b, c, d, e, f]`, entonces:\n",
        "\n",
        "\\[ y \\approx \\beta_0 + a\\cdot revenues + b\\cdot ebit + c\\cdot depreciation + d\\cdot capex + e\\cdot ncwc + f\\cdot bv \\]\n",
        "\n",
        "Cada coeficiente indica cómo cambia `y` en promedio **por cada unidad** que se incrementa la variable (manteniendo las demás constantes)."
      ]
    },
    {
      "cell_type": "markdown",
      "id": "000bc2f3",
      "metadata": {
        "id": "000bc2f3"
      },
      "source": [
        "## Paso 6: Evaluación y Validación del Modelo\n",
        "Usaremos las siguientes métricas:\n",
        "- **MSE (Mean Squared Error)**\n",
        "- **MAE (Mean Absolute Error)**\n",
        "- **R² (Coeficiente de Determinación)**"
      ]
    },
    {
      "cell_type": "markdown",
      "id": "229849b2",
      "metadata": {
        "id": "229849b2"
      },
      "source": [
        "### Preguntas de Reflexión (Evaluación)\n",
        "1. ¿Por qué comparamos las métricas en **Entrenamiento** vs **Prueba**?\n",
        "2. ¿Qué significa si el error en entrenamiento es **muy** distinto (mucho menor o mucho mayor) que en prueba?\n",
        "3. ¿Cómo interpretar un **R²** cercano a 1, cercano a 0 o incluso negativo?\n",
        "\n",
        "_Responde con tu razonamiento._"
      ]
    },
    {
      "cell_type": "markdown",
      "id": "e6b60a43",
      "metadata": {
        "id": "e6b60a43"
      },
      "source": [
        "### Pregunta de Reflexión (Residuos)\n",
        "Si observas un patrón claro en la gráfica de residuos (por ejemplo, forma de U), ¿qué podría indicar respecto a las **asunciones** de la regresión lineal?\n",
        "\n",
        "_Responde con tu razonamiento._"
      ]
    },
    {
      "cell_type": "code",
      "source": [],
      "metadata": {
        "id": "QorPRbFoAgSY"
      },
      "id": "QorPRbFoAgSY",
      "execution_count": null,
      "outputs": []
    },
    {
      "cell_type": "markdown",
      "id": "f357cf0e",
      "metadata": {
        "id": "f357cf0e"
      },
      "source": [
        "## Paso 8: Interpretación y Conclusiones\n",
        "\n",
        "1. **Revisa** los coeficientes: ¿son consistentes con la lógica de negocio? (p.ej., si `ebit` aumenta, esperas que `y` aumente o disminuya?).\n",
        "2. **Observa** el nivel de error y R²: ¿el modelo es suficientemente bueno para su uso práctico?\n",
        "3. **Considera** la posibilidad de:\n",
        "   - Añadir más variables.\n",
        "   - Aplicar **regresiones polinómicas** (X², X³) si sospechas no linealidad.\n",
        "   - Usar **regularización** (Ridge, Lasso) si hay multicolinealidad o se requieren coeficientes más estables."
      ]
    },
    {
      "cell_type": "markdown",
      "id": "48d0593a",
      "metadata": {
        "id": "48d0593a"
      },
      "source": [
        "### Preguntas de Reflexión Final\n",
        "1. ¿Crees que la Regresión Lineal Simple/Múltiple **captura adecuadamente** las relaciones en tus datos?\n",
        "2. ¿Qué otras técnicas (ej. árboles de decisión, bosques aleatorios, etc.) considerarías para comparar resultados?\n",
        "3. ¿El dataset es suficientemente grande y variado para hacer conclusiones robustas?\n",
        "\n",
        "_Responde con tu razonamiento._"
      ]
    },
    {
      "cell_type": "code",
      "source": [],
      "metadata": {
        "id": "MNMSChFSAftG"
      },
      "id": "MNMSChFSAftG",
      "execution_count": null,
      "outputs": []
    },
    {
      "cell_type": "markdown",
      "id": "2d97d703",
      "metadata": {
        "id": "2d97d703"
      },
      "source": [
        "## Resumen\n",
        "En este Notebook hemos:\n",
        "1. **Explorado** los datos (EDA) y detectado posibles outliers.\n",
        "2. **Limpieza** de datos y transformaciones opcionales.\n",
        "3. **Seleccionado** variables y dividido en train/test.\n",
        "4. **Entrenado** un modelo de Regresión Lineal.\n",
        "5. **Evaluado** con MSE, MAE, R² y analizado residuos.\n",
        "6. **Reflexionado** sobre los coeficientes y conclusiones.\n",
        "\n",
        "¡Has completado un **análisis de regresión lineal** de forma integral! Para afianzar, puedes:\n",
        "- Ajustar parámetros (aunque la regresión lineal simple en sklearn no tiene muchos).\n",
        "- Comparar con otros modelos.\n",
        "- Realizar validación cruzada en lugar de una simple división train/test.\n",
        "\n",
        "¡Éxitos en tu proyecto de análisis!"
      ]
    }
  ],
  "metadata": {
    "kernelspec": {
      "display_name": "Python 3",
      "language": "python",
      "name": "python3"
    },
    "language_info": {
      "name": "python",
      "version": "3.9"
    },
    "colab": {
      "provenance": []
    }
  },
  "nbformat": 4,
  "nbformat_minor": 5
}